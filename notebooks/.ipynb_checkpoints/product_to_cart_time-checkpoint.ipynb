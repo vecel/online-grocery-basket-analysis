{
 "cells": [
  {
   "cell_type": "code",
   "execution_count": 1,
   "id": "336a8dac-6fa0-494d-8069-be1955a972ec",
   "metadata": {},
   "outputs": [],
   "source": [
    "library(dplyr, warn = FALSE)\n",
    "library(ggplot2, warn = FALSE)\n",
    "library(forcats, warn = FALSE)"
   ]
  },
  {
   "cell_type": "code",
   "execution_count": 10,
   "id": "2df7d443-a064-444a-81b3-e27db04282a4",
   "metadata": {},
   "outputs": [],
   "source": [
    "orders <- read.csv(\"../data/processed-data/medium_orders.csv\")\n",
    "cart_sizes <- read.csv(\"../data/processed-data/medium.carts.csv\")\n",
    "departments <- read.csv(\"../data/raw-data/departments.csv\")"
   ]
  },
  {
   "cell_type": "code",
   "execution_count": 11,
   "id": "30325e7f-c9ad-43e7-9555-e55124448f6e",
   "metadata": {},
   "outputs": [
    {
     "data": {
      "text/html": [
       "<table class=\"dataframe\">\n",
       "<caption>A data.frame: 10 × 4</caption>\n",
       "<thead>\n",
       "\t<tr><th></th><th scope=col>order_id</th><th scope=col>product_id</th><th scope=col>add_to_cart_order</th><th scope=col>department_id</th></tr>\n",
       "\t<tr><th></th><th scope=col>&lt;int&gt;</th><th scope=col>&lt;int&gt;</th><th scope=col>&lt;int&gt;</th><th scope=col>&lt;int&gt;</th></tr>\n",
       "</thead>\n",
       "<tbody>\n",
       "\t<tr><th scope=row>1</th><td>5</td><td>13176</td><td> 1</td><td> 4</td></tr>\n",
       "\t<tr><th scope=row>2</th><td>5</td><td>15005</td><td> 2</td><td>13</td></tr>\n",
       "\t<tr><th scope=row>3</th><td>5</td><td>47329</td><td> 3</td><td>20</td></tr>\n",
       "\t<tr><th scope=row>4</th><td>5</td><td>27966</td><td> 4</td><td> 4</td></tr>\n",
       "\t<tr><th scope=row>5</th><td>5</td><td>23909</td><td> 5</td><td>16</td></tr>\n",
       "\t<tr><th scope=row>6</th><td>5</td><td>48370</td><td> 6</td><td>17</td></tr>\n",
       "\t<tr><th scope=row>7</th><td>5</td><td>13245</td><td> 7</td><td> 7</td></tr>\n",
       "\t<tr><th scope=row>8</th><td>5</td><td> 9633</td><td> 8</td><td> 6</td></tr>\n",
       "\t<tr><th scope=row>9</th><td>5</td><td>27360</td><td> 9</td><td>12</td></tr>\n",
       "\t<tr><th scope=row>10</th><td>5</td><td> 6348</td><td>10</td><td>16</td></tr>\n",
       "</tbody>\n",
       "</table>\n"
      ],
      "text/latex": [
       "A data.frame: 10 × 4\n",
       "\\begin{tabular}{r|llll}\n",
       "  & order\\_id & product\\_id & add\\_to\\_cart\\_order & department\\_id\\\\\n",
       "  & <int> & <int> & <int> & <int>\\\\\n",
       "\\hline\n",
       "\t1 & 5 & 13176 &  1 &  4\\\\\n",
       "\t2 & 5 & 15005 &  2 & 13\\\\\n",
       "\t3 & 5 & 47329 &  3 & 20\\\\\n",
       "\t4 & 5 & 27966 &  4 &  4\\\\\n",
       "\t5 & 5 & 23909 &  5 & 16\\\\\n",
       "\t6 & 5 & 48370 &  6 & 17\\\\\n",
       "\t7 & 5 & 13245 &  7 &  7\\\\\n",
       "\t8 & 5 &  9633 &  8 &  6\\\\\n",
       "\t9 & 5 & 27360 &  9 & 12\\\\\n",
       "\t10 & 5 &  6348 & 10 & 16\\\\\n",
       "\\end{tabular}\n"
      ],
      "text/markdown": [
       "\n",
       "A data.frame: 10 × 4\n",
       "\n",
       "| <!--/--> | order_id &lt;int&gt; | product_id &lt;int&gt; | add_to_cart_order &lt;int&gt; | department_id &lt;int&gt; |\n",
       "|---|---|---|---|---|\n",
       "| 1 | 5 | 13176 |  1 |  4 |\n",
       "| 2 | 5 | 15005 |  2 | 13 |\n",
       "| 3 | 5 | 47329 |  3 | 20 |\n",
       "| 4 | 5 | 27966 |  4 |  4 |\n",
       "| 5 | 5 | 23909 |  5 | 16 |\n",
       "| 6 | 5 | 48370 |  6 | 17 |\n",
       "| 7 | 5 | 13245 |  7 |  7 |\n",
       "| 8 | 5 |  9633 |  8 |  6 |\n",
       "| 9 | 5 | 27360 |  9 | 12 |\n",
       "| 10 | 5 |  6348 | 10 | 16 |\n",
       "\n"
      ],
      "text/plain": [
       "   order_id product_id add_to_cart_order department_id\n",
       "1  5        13176       1                 4           \n",
       "2  5        15005       2                13           \n",
       "3  5        47329       3                20           \n",
       "4  5        27966       4                 4           \n",
       "5  5        23909       5                16           \n",
       "6  5        48370       6                17           \n",
       "7  5        13245       7                 7           \n",
       "8  5         9633       8                 6           \n",
       "9  5        27360       9                12           \n",
       "10 5         6348      10                16           "
      ]
     },
     "metadata": {},
     "output_type": "display_data"
    }
   ],
   "source": [
    "head(orders, n = 10)"
   ]
  },
  {
   "cell_type": "code",
   "execution_count": 12,
   "id": "50762ce3-c2e3-4543-9bbe-8500091e23c3",
   "metadata": {},
   "outputs": [
    {
     "data": {
      "text/html": [
       "<table class=\"dataframe\">\n",
       "<caption>A data.frame: 6 × 3</caption>\n",
       "<thead>\n",
       "\t<tr><th></th><th scope=col>order_id</th><th scope=col>cart_size</th><th scope=col>distinct_departments</th></tr>\n",
       "\t<tr><th></th><th scope=col>&lt;int&gt;</th><th scope=col>&lt;int&gt;</th><th scope=col>&lt;int&gt;</th></tr>\n",
       "</thead>\n",
       "<tbody>\n",
       "\t<tr><th scope=row>1</th><td>1564244</td><td>145</td><td>12</td></tr>\n",
       "\t<tr><th scope=row>2</th><td> 790903</td><td>137</td><td>11</td></tr>\n",
       "\t<tr><th scope=row>3</th><td>  61355</td><td>127</td><td>11</td></tr>\n",
       "\t<tr><th scope=row>4</th><td>2970392</td><td>121</td><td>15</td></tr>\n",
       "\t<tr><th scope=row>5</th><td>2069920</td><td>116</td><td> 9</td></tr>\n",
       "\t<tr><th scope=row>6</th><td>3308010</td><td>115</td><td>11</td></tr>\n",
       "</tbody>\n",
       "</table>\n"
      ],
      "text/latex": [
       "A data.frame: 6 × 3\n",
       "\\begin{tabular}{r|lll}\n",
       "  & order\\_id & cart\\_size & distinct\\_departments\\\\\n",
       "  & <int> & <int> & <int>\\\\\n",
       "\\hline\n",
       "\t1 & 1564244 & 145 & 12\\\\\n",
       "\t2 &  790903 & 137 & 11\\\\\n",
       "\t3 &   61355 & 127 & 11\\\\\n",
       "\t4 & 2970392 & 121 & 15\\\\\n",
       "\t5 & 2069920 & 116 &  9\\\\\n",
       "\t6 & 3308010 & 115 & 11\\\\\n",
       "\\end{tabular}\n"
      ],
      "text/markdown": [
       "\n",
       "A data.frame: 6 × 3\n",
       "\n",
       "| <!--/--> | order_id &lt;int&gt; | cart_size &lt;int&gt; | distinct_departments &lt;int&gt; |\n",
       "|---|---|---|---|\n",
       "| 1 | 1564244 | 145 | 12 |\n",
       "| 2 |  790903 | 137 | 11 |\n",
       "| 3 |   61355 | 127 | 11 |\n",
       "| 4 | 2970392 | 121 | 15 |\n",
       "| 5 | 2069920 | 116 |  9 |\n",
       "| 6 | 3308010 | 115 | 11 |\n",
       "\n"
      ],
      "text/plain": [
       "  order_id cart_size distinct_departments\n",
       "1 1564244  145       12                  \n",
       "2  790903  137       11                  \n",
       "3   61355  127       11                  \n",
       "4 2970392  121       15                  \n",
       "5 2069920  116        9                  \n",
       "6 3308010  115       11                  "
      ]
     },
     "metadata": {},
     "output_type": "display_data"
    }
   ],
   "source": [
    "head(cart_sizes)"
   ]
  },
  {
   "cell_type": "code",
   "execution_count": 33,
   "id": "d9ee5249-097e-49ba-9b7f-ab591cb9c4da",
   "metadata": {},
   "outputs": [
    {
     "data": {
      "text/html": [
       "<table class=\"dataframe\">\n",
       "<caption>A data.frame: 6 × 2</caption>\n",
       "<thead>\n",
       "\t<tr><th></th><th scope=col>department_id</th><th scope=col>department</th></tr>\n",
       "\t<tr><th></th><th scope=col>&lt;int&gt;</th><th scope=col>&lt;chr&gt;</th></tr>\n",
       "</thead>\n",
       "<tbody>\n",
       "\t<tr><th scope=row>1</th><td>1</td><td>frozen       </td></tr>\n",
       "\t<tr><th scope=row>2</th><td>2</td><td>other        </td></tr>\n",
       "\t<tr><th scope=row>3</th><td>3</td><td>bakery       </td></tr>\n",
       "\t<tr><th scope=row>4</th><td>4</td><td>produce      </td></tr>\n",
       "\t<tr><th scope=row>5</th><td>5</td><td>alcohol      </td></tr>\n",
       "\t<tr><th scope=row>6</th><td>6</td><td>international</td></tr>\n",
       "</tbody>\n",
       "</table>\n"
      ],
      "text/latex": [
       "A data.frame: 6 × 2\n",
       "\\begin{tabular}{r|ll}\n",
       "  & department\\_id & department\\\\\n",
       "  & <int> & <chr>\\\\\n",
       "\\hline\n",
       "\t1 & 1 & frozen       \\\\\n",
       "\t2 & 2 & other        \\\\\n",
       "\t3 & 3 & bakery       \\\\\n",
       "\t4 & 4 & produce      \\\\\n",
       "\t5 & 5 & alcohol      \\\\\n",
       "\t6 & 6 & international\\\\\n",
       "\\end{tabular}\n"
      ],
      "text/markdown": [
       "\n",
       "A data.frame: 6 × 2\n",
       "\n",
       "| <!--/--> | department_id &lt;int&gt; | department &lt;chr&gt; |\n",
       "|---|---|---|\n",
       "| 1 | 1 | frozen        |\n",
       "| 2 | 2 | other         |\n",
       "| 3 | 3 | bakery        |\n",
       "| 4 | 4 | produce       |\n",
       "| 5 | 5 | alcohol       |\n",
       "| 6 | 6 | international |\n",
       "\n"
      ],
      "text/plain": [
       "  department_id department   \n",
       "1 1             frozen       \n",
       "2 2             other        \n",
       "3 3             bakery       \n",
       "4 4             produce      \n",
       "5 5             alcohol      \n",
       "6 6             international"
      ]
     },
     "metadata": {},
     "output_type": "display_data"
    }
   ],
   "source": [
    "head(departments)"
   ]
  },
  {
   "cell_type": "markdown",
   "id": "cee98ce1-6f5a-48c5-9ba1-98a2e7ab2df2",
   "metadata": {},
   "source": [
    "### Prepare column add_to_cart_normalized\n",
    "description TODO\n",
    "\n",
    "**Info:**\n",
    "Here we constder medium orders, which are orders placed in top 40% in terms of cart size and has products from minimum 6 distinct departments.\n",
    "Minimum cart size here is 26."
   ]
  },
  {
   "cell_type": "code",
   "execution_count": 14,
   "id": "bcbb6d0d-8db1-4fbe-ae87-5ce526a9ed6e",
   "metadata": {},
   "outputs": [
    {
     "data": {
      "text/html": [
       "<table class=\"dataframe\">\n",
       "<caption>A data.frame: 26 × 6</caption>\n",
       "<thead>\n",
       "\t<tr><th></th><th scope=col>order_id</th><th scope=col>product_id</th><th scope=col>add_to_cart_order</th><th scope=col>cart_size</th><th scope=col>department</th><th scope=col>add_to_cart_normalized</th></tr>\n",
       "\t<tr><th></th><th scope=col>&lt;int&gt;</th><th scope=col>&lt;int&gt;</th><th scope=col>&lt;int&gt;</th><th scope=col>&lt;int&gt;</th><th scope=col>&lt;chr&gt;</th><th scope=col>&lt;dbl&gt;</th></tr>\n",
       "</thead>\n",
       "<tbody>\n",
       "\t<tr><th scope=row>1</th><td>5</td><td>13176</td><td> 1</td><td>26</td><td>produce        </td><td>0.00</td></tr>\n",
       "\t<tr><th scope=row>2</th><td>5</td><td>15005</td><td> 2</td><td>26</td><td>pantry         </td><td>0.04</td></tr>\n",
       "\t<tr><th scope=row>3</th><td>5</td><td>47329</td><td> 3</td><td>26</td><td>deli           </td><td>0.08</td></tr>\n",
       "\t<tr><th scope=row>4</th><td>5</td><td>27966</td><td> 4</td><td>26</td><td>produce        </td><td>0.12</td></tr>\n",
       "\t<tr><th scope=row>5</th><td>5</td><td>23909</td><td> 5</td><td>26</td><td>dairy eggs     </td><td>0.16</td></tr>\n",
       "\t<tr><th scope=row>6</th><td>5</td><td>48370</td><td> 6</td><td>26</td><td>household      </td><td>0.20</td></tr>\n",
       "\t<tr><th scope=row>7</th><td>5</td><td>13245</td><td> 7</td><td>26</td><td>beverages      </td><td>0.24</td></tr>\n",
       "\t<tr><th scope=row>8</th><td>5</td><td> 9633</td><td> 8</td><td>26</td><td>international  </td><td>0.28</td></tr>\n",
       "\t<tr><th scope=row>9</th><td>5</td><td>27360</td><td> 9</td><td>26</td><td>meat seafood   </td><td>0.32</td></tr>\n",
       "\t<tr><th scope=row>10</th><td>5</td><td> 6348</td><td>10</td><td>26</td><td>dairy eggs     </td><td>0.36</td></tr>\n",
       "\t<tr><th scope=row>11</th><td>5</td><td>40878</td><td>11</td><td>26</td><td>dry goods pasta</td><td>0.40</td></tr>\n",
       "\t<tr><th scope=row>12</th><td>5</td><td> 6184</td><td>12</td><td>26</td><td>produce        </td><td>0.44</td></tr>\n",
       "\t<tr><th scope=row>13</th><td>5</td><td>48002</td><td>13</td><td>26</td><td>snacks         </td><td>0.48</td></tr>\n",
       "\t<tr><th scope=row>14</th><td>5</td><td>20914</td><td>14</td><td>26</td><td>snacks         </td><td>0.52</td></tr>\n",
       "\t<tr><th scope=row>15</th><td>5</td><td>37011</td><td>15</td><td>26</td><td>produce        </td><td>0.56</td></tr>\n",
       "\t<tr><th scope=row>16</th><td>5</td><td>12962</td><td>16</td><td>26</td><td>pantry         </td><td>0.60</td></tr>\n",
       "\t<tr><th scope=row>17</th><td>5</td><td>45698</td><td>17</td><td>26</td><td>household      </td><td>0.64</td></tr>\n",
       "\t<tr><th scope=row>18</th><td>5</td><td>24773</td><td>18</td><td>26</td><td>snacks         </td><td>0.68</td></tr>\n",
       "\t<tr><th scope=row>19</th><td>5</td><td>18569</td><td>19</td><td>26</td><td>personal care  </td><td>0.72</td></tr>\n",
       "\t<tr><th scope=row>20</th><td>5</td><td>41176</td><td>20</td><td>26</td><td>dairy eggs     </td><td>0.76</td></tr>\n",
       "\t<tr><th scope=row>21</th><td>5</td><td>48366</td><td>21</td><td>26</td><td>household      </td><td>0.80</td></tr>\n",
       "\t<tr><th scope=row>22</th><td>5</td><td>47209</td><td>22</td><td>26</td><td>produce        </td><td>0.84</td></tr>\n",
       "\t<tr><th scope=row>23</th><td>5</td><td>46522</td><td>23</td><td>26</td><td>dry goods pasta</td><td>0.88</td></tr>\n",
       "\t<tr><th scope=row>24</th><td>5</td><td>38693</td><td>24</td><td>26</td><td>produce        </td><td>0.92</td></tr>\n",
       "\t<tr><th scope=row>25</th><td>5</td><td>48825</td><td>25</td><td>26</td><td>produce        </td><td>0.96</td></tr>\n",
       "\t<tr><th scope=row>26</th><td>5</td><td> 8479</td><td>26</td><td>26</td><td>snacks         </td><td>1.00</td></tr>\n",
       "</tbody>\n",
       "</table>\n"
      ],
      "text/latex": [
       "A data.frame: 26 × 6\n",
       "\\begin{tabular}{r|llllll}\n",
       "  & order\\_id & product\\_id & add\\_to\\_cart\\_order & cart\\_size & department & add\\_to\\_cart\\_normalized\\\\\n",
       "  & <int> & <int> & <int> & <int> & <chr> & <dbl>\\\\\n",
       "\\hline\n",
       "\t1 & 5 & 13176 &  1 & 26 & produce         & 0.00\\\\\n",
       "\t2 & 5 & 15005 &  2 & 26 & pantry          & 0.04\\\\\n",
       "\t3 & 5 & 47329 &  3 & 26 & deli            & 0.08\\\\\n",
       "\t4 & 5 & 27966 &  4 & 26 & produce         & 0.12\\\\\n",
       "\t5 & 5 & 23909 &  5 & 26 & dairy eggs      & 0.16\\\\\n",
       "\t6 & 5 & 48370 &  6 & 26 & household       & 0.20\\\\\n",
       "\t7 & 5 & 13245 &  7 & 26 & beverages       & 0.24\\\\\n",
       "\t8 & 5 &  9633 &  8 & 26 & international   & 0.28\\\\\n",
       "\t9 & 5 & 27360 &  9 & 26 & meat seafood    & 0.32\\\\\n",
       "\t10 & 5 &  6348 & 10 & 26 & dairy eggs      & 0.36\\\\\n",
       "\t11 & 5 & 40878 & 11 & 26 & dry goods pasta & 0.40\\\\\n",
       "\t12 & 5 &  6184 & 12 & 26 & produce         & 0.44\\\\\n",
       "\t13 & 5 & 48002 & 13 & 26 & snacks          & 0.48\\\\\n",
       "\t14 & 5 & 20914 & 14 & 26 & snacks          & 0.52\\\\\n",
       "\t15 & 5 & 37011 & 15 & 26 & produce         & 0.56\\\\\n",
       "\t16 & 5 & 12962 & 16 & 26 & pantry          & 0.60\\\\\n",
       "\t17 & 5 & 45698 & 17 & 26 & household       & 0.64\\\\\n",
       "\t18 & 5 & 24773 & 18 & 26 & snacks          & 0.68\\\\\n",
       "\t19 & 5 & 18569 & 19 & 26 & personal care   & 0.72\\\\\n",
       "\t20 & 5 & 41176 & 20 & 26 & dairy eggs      & 0.76\\\\\n",
       "\t21 & 5 & 48366 & 21 & 26 & household       & 0.80\\\\\n",
       "\t22 & 5 & 47209 & 22 & 26 & produce         & 0.84\\\\\n",
       "\t23 & 5 & 46522 & 23 & 26 & dry goods pasta & 0.88\\\\\n",
       "\t24 & 5 & 38693 & 24 & 26 & produce         & 0.92\\\\\n",
       "\t25 & 5 & 48825 & 25 & 26 & produce         & 0.96\\\\\n",
       "\t26 & 5 &  8479 & 26 & 26 & snacks          & 1.00\\\\\n",
       "\\end{tabular}\n"
      ],
      "text/markdown": [
       "\n",
       "A data.frame: 26 × 6\n",
       "\n",
       "| <!--/--> | order_id &lt;int&gt; | product_id &lt;int&gt; | add_to_cart_order &lt;int&gt; | cart_size &lt;int&gt; | department &lt;chr&gt; | add_to_cart_normalized &lt;dbl&gt; |\n",
       "|---|---|---|---|---|---|---|\n",
       "| 1 | 5 | 13176 |  1 | 26 | produce         | 0.00 |\n",
       "| 2 | 5 | 15005 |  2 | 26 | pantry          | 0.04 |\n",
       "| 3 | 5 | 47329 |  3 | 26 | deli            | 0.08 |\n",
       "| 4 | 5 | 27966 |  4 | 26 | produce         | 0.12 |\n",
       "| 5 | 5 | 23909 |  5 | 26 | dairy eggs      | 0.16 |\n",
       "| 6 | 5 | 48370 |  6 | 26 | household       | 0.20 |\n",
       "| 7 | 5 | 13245 |  7 | 26 | beverages       | 0.24 |\n",
       "| 8 | 5 |  9633 |  8 | 26 | international   | 0.28 |\n",
       "| 9 | 5 | 27360 |  9 | 26 | meat seafood    | 0.32 |\n",
       "| 10 | 5 |  6348 | 10 | 26 | dairy eggs      | 0.36 |\n",
       "| 11 | 5 | 40878 | 11 | 26 | dry goods pasta | 0.40 |\n",
       "| 12 | 5 |  6184 | 12 | 26 | produce         | 0.44 |\n",
       "| 13 | 5 | 48002 | 13 | 26 | snacks          | 0.48 |\n",
       "| 14 | 5 | 20914 | 14 | 26 | snacks          | 0.52 |\n",
       "| 15 | 5 | 37011 | 15 | 26 | produce         | 0.56 |\n",
       "| 16 | 5 | 12962 | 16 | 26 | pantry          | 0.60 |\n",
       "| 17 | 5 | 45698 | 17 | 26 | household       | 0.64 |\n",
       "| 18 | 5 | 24773 | 18 | 26 | snacks          | 0.68 |\n",
       "| 19 | 5 | 18569 | 19 | 26 | personal care   | 0.72 |\n",
       "| 20 | 5 | 41176 | 20 | 26 | dairy eggs      | 0.76 |\n",
       "| 21 | 5 | 48366 | 21 | 26 | household       | 0.80 |\n",
       "| 22 | 5 | 47209 | 22 | 26 | produce         | 0.84 |\n",
       "| 23 | 5 | 46522 | 23 | 26 | dry goods pasta | 0.88 |\n",
       "| 24 | 5 | 38693 | 24 | 26 | produce         | 0.92 |\n",
       "| 25 | 5 | 48825 | 25 | 26 | produce         | 0.96 |\n",
       "| 26 | 5 |  8479 | 26 | 26 | snacks          | 1.00 |\n",
       "\n"
      ],
      "text/plain": [
       "   order_id product_id add_to_cart_order cart_size department     \n",
       "1  5        13176       1                26        produce        \n",
       "2  5        15005       2                26        pantry         \n",
       "3  5        47329       3                26        deli           \n",
       "4  5        27966       4                26        produce        \n",
       "5  5        23909       5                26        dairy eggs     \n",
       "6  5        48370       6                26        household      \n",
       "7  5        13245       7                26        beverages      \n",
       "8  5         9633       8                26        international  \n",
       "9  5        27360       9                26        meat seafood   \n",
       "10 5         6348      10                26        dairy eggs     \n",
       "11 5        40878      11                26        dry goods pasta\n",
       "12 5         6184      12                26        produce        \n",
       "13 5        48002      13                26        snacks         \n",
       "14 5        20914      14                26        snacks         \n",
       "15 5        37011      15                26        produce        \n",
       "16 5        12962      16                26        pantry         \n",
       "17 5        45698      17                26        household      \n",
       "18 5        24773      18                26        snacks         \n",
       "19 5        18569      19                26        personal care  \n",
       "20 5        41176      20                26        dairy eggs     \n",
       "21 5        48366      21                26        household      \n",
       "22 5        47209      22                26        produce        \n",
       "23 5        46522      23                26        dry goods pasta\n",
       "24 5        38693      24                26        produce        \n",
       "25 5        48825      25                26        produce        \n",
       "26 5         8479      26                26        snacks         \n",
       "   add_to_cart_normalized\n",
       "1  0.00                  \n",
       "2  0.04                  \n",
       "3  0.08                  \n",
       "4  0.12                  \n",
       "5  0.16                  \n",
       "6  0.20                  \n",
       "7  0.24                  \n",
       "8  0.28                  \n",
       "9  0.32                  \n",
       "10 0.36                  \n",
       "11 0.40                  \n",
       "12 0.44                  \n",
       "13 0.48                  \n",
       "14 0.52                  \n",
       "15 0.56                  \n",
       "16 0.60                  \n",
       "17 0.64                  \n",
       "18 0.68                  \n",
       "19 0.72                  \n",
       "20 0.76                  \n",
       "21 0.80                  \n",
       "22 0.84                  \n",
       "23 0.88                  \n",
       "24 0.92                  \n",
       "25 0.96                  \n",
       "26 1.00                  "
      ]
     },
     "metadata": {},
     "output_type": "display_data"
    }
   ],
   "source": [
    "full_orders <- orders %>%\n",
    "    inner_join(cart_sizes, by = \"order_id\", relationship = \"many-to-one\") %>%\n",
    "    inner_join(departments, by = \"department_id\", relationship = \"many-to-one\") %>%\n",
    "    select(-department_id, -distinct_departments) %>%\n",
    "    mutate(add_to_cart_normalized = (add_to_cart_order-1) / (cart_size-1))\n",
    "head(full_orders, n = 26)"
   ]
  },
  {
   "cell_type": "code",
   "execution_count": 30,
   "id": "31cb5354-e553-4fa2-ae52-987c01aabcab",
   "metadata": {},
   "outputs": [
    {
     "data": {
      "image/png": "[encoded data removed]",
      "text/plain": [
       "plot without title"
      ]
     },
     "metadata": {
      "image/png": {
       "height": 420,
       "width": 420
      }
     },
     "output_type": "display_data"
    }
   ],
   "source": [
    "ggplot(filter(full_orders, department != \"missing\"),\n",
    "       mapping = aes(x = fct_reorder(department,\n",
    "                                     add_to_cart_normalized),\n",
    "                     y = add_to_cart_normalized)) +\n",
    "    geom_boxplot() +\n",
    "    labs(x = \"Department\",\n",
    "           y = \"Shopping time\",\n",
    "           title = \"Adding product to cart time\",\n",
    "           subtitle = \"By department\") +\n",
    "    scale_y_continuous(\n",
    "        expand = c(0, 0),\n",
    "        limits = c(0, 1),\n",
    "        breaks = seq(0, 1, by = 0.5),\n",
    "        labels = c(\"Beggining\", \"Midway\", \"End\")) +\n",
    "    theme_minimal() +\n",
    "    theme(axis.text.x = element_text(angle = -45, hjust = 0),\n",
    "         plot.margin = margin(5.5, 30, 5.5, 5.5))"
   ]
  },
  {
   "cell_type": "markdown",
   "id": "0ede83f9-f603-451b-92be-9a459a647c84",
   "metadata": {},
   "source": [
    "We can see that products of each category were added to cart as well in the begginng of shopping as in the end. However we can draw a conlusion. Over half of products from departments \"dairy eggs\", \"beverages\", \"bakery\", \"pets\" and \"produce\" where added before midway of the shopping and much more than half of products from departments \"personal care\" and \"pantry\" were bought after that time."
   ]
  },
  {
   "cell_type": "markdown",
   "id": "0126339c-bbf9-4269-9a84-a1d380e5c2ce",
   "metadata": {},
   "source": [
    "Now we will consider bigger orders. We will use carts with sizes over 80. There are about 10k such orders."
   ]
  },
  {
   "cell_type": "code",
   "execution_count": 7,
   "id": "16f98e57-d31c-4897-b9fc-c250670768f9",
   "metadata": {},
   "outputs": [
    {
     "data": {
      "text/html": [
       "10228"
      ],
      "text/latex": [
       "10228"
      ],
      "text/markdown": [
       "10228"
      ],
      "text/plain": [
       "[1] 10228"
      ]
     },
     "metadata": {},
     "output_type": "display_data"
    }
   ],
   "source": [
    "nrow(filter(full_orders, cart_size > 80))"
   ]
  },
  {
   "cell_type": "code",
   "execution_count": 31,
   "id": "9dc76e88-0993-4655-92c8-34a2d1d43737",
   "metadata": {},
   "outputs": [
    {
     "data": {
      "image/png": "[encoded data removed]",
      "text/plain": [
       "plot without title"
      ]
     },
     "metadata": {
      "image/png": {
       "height": 420,
       "width": 420
      }
     },
     "output_type": "display_data"
    }
   ],
   "source": [
    "ggplot(filter(full_orders, cart_size > 80, department != \"missing\"),\n",
    "       mapping = aes(x = fct_reorder(department,\n",
    "                                     add_to_cart_normalized),\n",
    "                     y = add_to_cart_normalized)) +\n",
    "    geom_boxplot() +\n",
    "    labs(x = \"Department\",\n",
    "           y = \"Shopping time\",\n",
    "           title = \"Adding product to cart time\",\n",
    "           subtitle = \"By department\") +\n",
    "    scale_y_continuous(\n",
    "        expand = c(0, 0),\n",
    "        limits = c(0, 1),\n",
    "        breaks = seq(0, 1, by = 0.5),\n",
    "        labels = c(\"Beggining\", \"Midway\", \"End\")) +\n",
    "    theme_minimal() +\n",
    "    theme(axis.text.x = element_text(angle = -45, hjust = 0),\n",
    "         plot.margin = margin(5.5, 30, 5.5, 5.5))"
   ]
  },
  {
   "cell_type": "markdown",
   "id": "cf76974a-88fa-45c8-acf1-706ad49ca04b",
   "metadata": {},
   "source": [
    "Let's limit ourselves to products that are usually purchased in large orders. We will consider departments: \"dairy & eggs\", \"produce\", \"beverages\", \"dry goods & pasta\", \"snacks\", \"meat & seafood\", \"breakfast\" and \"deli\""
   ]
  },
  {
   "cell_type": "code",
   "execution_count": null,
   "id": "b8bb2fa0-d563-4e9a-bce5-53b851051a4c",
   "metadata": {},
   "outputs": [],
   "source": [
    "departments_limit <- c(\"dairy eggs\", \"produce\", \"beverages\", \"dry goods pasta\", \"snacks\", \"meat seafood\", \"breakfast\", \"deli\")\n",
    "\n",
    "full_orders %>%\n",
    "    filter(cart_size > 80,\n",
    "           department %in% departments_limit) %>%\n",
    "ggplot(mapping = aes(x = fct_reorder(department,\n",
    "                                     add_to_cart_normalized),\n",
    "                     y = add_to_cart_normalized)) +\n",
    "    geom_boxplot() +\n",
    "    labs(x = \"Department\",\n",
    "           y = \"Shopping time\",\n",
    "           title = \"Adding product to cart time\",\n",
    "           subtitle = \"By department\") +\n",
    "    scale_y_continuous(\n",
    "        expand = c(0, 0),\n",
    "        limits = c(0, 1),\n",
    "        breaks = seq(0, 1, by = 0.5),\n",
    "        labels = c(\"Beggining\", \"Midway\", \"End\")) +\n",
    "    theme_minimal() +\n",
    "    theme(axis.text.x = element_text(angle = -45, hjust = 0),\n",
    "         plot.margin = margin(5.5, 30, 5.5, 5.5))"
   ]
  },
  {
   "cell_type": "code",
   "execution_count": 11,
   "id": "b252ecd7-da82-4831-a60a-c75d86d2b1f5",
   "metadata": {},
   "outputs": [
    {
     "name": "stderr",
     "output_type": "stream",
     "text": [
      "\u001b[1m\u001b[22mSaving 6.67 x 6.67 in image\n"
     ]
    }
   ],
   "source": [
    "ggsave(\"../plots/test.png\") # todo zmienic nazwe"
   ]
  },
  {
   "cell_type": "code",
   "execution_count": null,
   "id": "3f8bce2d-c625-4cec-b0e5-ed07a90ea6e3",
   "metadata": {},
   "outputs": [],
   "source": []
  }
 ],
 "metadata": {
  "kernelspec": {
   "display_name": "R",
   "language": "R",
   "name": "ir"
  },
  "language_info": {
   "codemirror_mode": "r",
   "file_extension": ".r",
   "mimetype": "text/x-r-source",
   "name": "R",
   "pygments_lexer": "r",
   "version": "4.3.1"
  }
 },
 "nbformat": 4,
 "nbformat_minor": 5
}
